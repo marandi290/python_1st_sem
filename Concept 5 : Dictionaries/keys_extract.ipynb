{
 "cells": [
  {
   "cell_type": "markdown",
   "metadata": {},
   "source": [
    "Concept 5 : Dictionaries"
   ]
  },
  {
   "cell_type": "markdown",
   "metadata": {},
   "source": [
    "4. Create new dictionary so that it only has the keys mentioned in another list."
   ]
  },
  {
   "cell_type": "code",
   "execution_count": 2,
   "metadata": {},
   "outputs": [
    {
     "name": "stdout",
     "output_type": "stream",
     "text": [
      "{'name': 'Kelly', 'salary': 8000}\n"
     ]
    }
   ],
   "source": [
    "sample_dict = {\"name\": \"Kelly\", \"age\": 25, \"salary\": 8000, \"city\": \"New york\"}\n",
    "\n",
    "# keys to extract\n",
    "keys_extract = [\"name\", \"salary\"]\n",
    "\n",
    "# make a new dictionary.\n",
    "dict_new = {}\n",
    "for key,value in sample_dict.items():\n",
    "    if key in keys_extract:\n",
    "        dict_new[key] = value\n",
    "\n",
    "print(dict_new)"
   ]
  },
  {
   "cell_type": "code",
   "execution_count": null,
   "metadata": {},
   "outputs": [],
   "source": []
  }
 ],
 "metadata": {
  "kernelspec": {
   "display_name": "Python 3",
   "language": "python",
   "name": "python3"
  },
  "language_info": {
   "codemirror_mode": {
    "name": "ipython",
    "version": 3
   },
   "file_extension": ".py",
   "mimetype": "text/x-python",
   "name": "python",
   "nbconvert_exporter": "python",
   "pygments_lexer": "ipython3",
   "version": "3.11.5"
  }
 },
 "nbformat": 4,
 "nbformat_minor": 2
}
