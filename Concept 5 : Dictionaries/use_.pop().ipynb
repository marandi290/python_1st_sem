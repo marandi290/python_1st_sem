{
 "cells": [
  {
   "cell_type": "markdown",
   "metadata": {},
   "source": [
    "Concept 5 : Dictionaries"
   ]
  },
  {
   "cell_type": "markdown",
   "metadata": {},
   "source": [
    "5. Remove a key from a dictionary:\n",
    "dict_name.pop(key_name)\n",
    "What does this function return?\n",
    "Use pop to rename a key."
   ]
  },
  {
   "cell_type": "code",
   "execution_count": 6,
   "metadata": {},
   "outputs": [
    {
     "name": "stdout",
     "output_type": "stream",
     "text": [
      "{'Class': 'graduation', 'age': 19, 'course': 'B.tech', 'Branch': 'CS', 'naam': 'Manish'}\n"
     ]
    }
   ],
   "source": [
    "dict5 = {\"name\": \"Manish\", \"Class\": \"graduation\", \"age\": 19, \"course\": \"B.tech\", \"Branch\": \"CS\"}\n",
    "\n",
    "# .pop() function returns the value of a key inside the bracket of pop.\n",
    "dict5[\"naam\"] = dict5.pop(\"name\")  # rename the key using .pop() function.\n",
    "\n",
    "print(dict5)"
   ]
  }
 ],
 "metadata": {
  "kernelspec": {
   "display_name": "Python 3",
   "language": "python",
   "name": "python3"
  },
  "language_info": {
   "codemirror_mode": {
    "name": "ipython",
    "version": 3
   },
   "file_extension": ".py",
   "mimetype": "text/x-python",
   "name": "python",
   "nbconvert_exporter": "python",
   "pygments_lexer": "ipython3",
   "version": "3.11.5"
  }
 },
 "nbformat": 4,
 "nbformat_minor": 2
}
