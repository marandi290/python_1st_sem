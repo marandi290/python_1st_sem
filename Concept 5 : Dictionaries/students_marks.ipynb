{
 "cells": [
  {
   "cell_type": "markdown",
   "metadata": {},
   "source": [
    "Concept 5 : Dictionaries"
   ]
  },
  {
   "cell_type": "markdown",
   "metadata": {},
   "source": [
    "6. Create a dictionary to store the total marks of 5 students in the class in 3 subjects (Course1, course2, Course3). The key must be the student name and the values ,must be the list of marks. Create another list which has the course name in same order as the marks are stored in the dictionary values. Now write a nested for loop to print the marks for each student exam wise."
   ]
  },
  {
   "cell_type": "code",
   "execution_count": 2,
   "metadata": {},
   "outputs": [
    {
     "name": "stdout",
     "output_type": "stream",
     "text": [
      "Markush\n",
      "Physics : 89\n",
      "Chemistry : 78\n",
      "Biology : 67\n",
      "\n",
      "\n",
      "Pankaj\n",
      "Physics : 98\n",
      "Chemistry : 87\n",
      "Biology : 76\n",
      "\n",
      "\n",
      "Nikhil\n",
      "Physics : 79\n",
      "Chemistry : 68\n",
      "Biology : 57\n",
      "\n",
      "\n",
      "Jittu\n",
      "Physics : 45\n",
      "Chemistry : 85\n",
      "Biology : 69\n",
      "\n",
      "\n",
      "Yas\n",
      "Physics : 88\n",
      "Chemistry : 77\n",
      "Biology : 66\n",
      "\n",
      "\n"
     ]
    }
   ],
   "source": [
    "# dictionary to store marks of five students in 3 subjects (Math, Physics, Chemistry)\n",
    "dict_marks = {\"Markush\": [89, 78, 67], \"Pankaj\": [98, 87, 76], \"Nikhil\": [79, 68, 57], \"Jittu\": [45, 85, 69], \"Yas\": [88, 77, 66]}\n",
    "\n",
    "# list of course names.\n",
    "course = [\"Physics\", \"Chemistry\", \"Biology\"]\n",
    "\n",
    "for key in dict_marks.keys():\n",
    "    print(key)\n",
    "    a = 0   # to access course names in list(course).\n",
    "    for marks in dict_marks[key]:\n",
    "        print(course[a], \":\", marks)\n",
    "        a = a+1  # to update a.\n",
    "    print(\"\\n\")\n"
   ]
  }
 ],
 "metadata": {
  "kernelspec": {
   "display_name": "Python 3",
   "language": "python",
   "name": "python3"
  },
  "language_info": {
   "codemirror_mode": {
    "name": "ipython",
    "version": 3
   },
   "file_extension": ".py",
   "mimetype": "text/x-python",
   "name": "python",
   "nbconvert_exporter": "python",
   "pygments_lexer": "ipython3",
   "version": "3.11.5"
  }
 },
 "nbformat": 4,
 "nbformat_minor": 2
}
