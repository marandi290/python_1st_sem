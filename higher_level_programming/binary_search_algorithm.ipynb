{
 "cells": [
  {
   "cell_type": "markdown",
   "metadata": {},
   "source": [
    "Higher Level Programming"
   ]
  },
  {
   "cell_type": "markdown",
   "metadata": {},
   "source": [
    "8.Given a sorted list of integers, search for a given integer using the binary search algorithm."
   ]
  },
  {
   "cell_type": "code",
   "execution_count": 35,
   "metadata": {},
   "outputs": [],
   "source": [
    "# make a list of integers which are in ascending order.\n",
    "def find_num(list_num, n):\n",
    "    if isinstance(list_num, list) and isinstance(n, int):\n",
    "        if len(list_num) > 1:\n",
    "            if len(list_num)%2 == 0:   # if number of elements in the list is even.\n",
    "                middle = int(len(list_num)/2)\n",
    "                if n == list_num[middle-1]:\n",
    "                    return \"yes\"\n",
    "                elif n < list_num[middle-1]:\n",
    "                    list_num = list(list_num[0:middle-1])   # updating the list.\n",
    "                    print(list_num)\n",
    "                    return find_num(list_num, n)\n",
    "                elif n == list_num[middle]:\n",
    "                    return \"yes\"\n",
    "                elif n > list_num[middle]:\n",
    "                    list_num = list(list_num[middle:])\n",
    "                    print(list_num)\n",
    "                    return find_num(list_num, n)\n",
    "                \n",
    "            else:                      # if number of elements in the list is odd.\n",
    "                middle = int(len(list_num)/2)\n",
    "                if n < list_num[middle]:\n",
    "                    list_num = list(list_num[0:middle])\n",
    "                    print(list_num)\n",
    "                    return find_num(list_num, n)\n",
    "                elif n == list_num[middle]:\n",
    "                    return \"yes\"\n",
    "                elif n > list_num[middle]:\n",
    "                    list_num = list(list_num[middle:])\n",
    "                    print(list_num)\n",
    "                    return find_num(list_num, n)\n",
    "                \n",
    "        elif len(list_num) == 1:\n",
    "            if n == list_num[0]:\n",
    "                return \"yes\"\n",
    "            else:\n",
    "                return \"not found\"\n",
    "        else:\n",
    "            return \"not found\"\n",
    "    \n",
    "    else:\n",
    "        return \"first input must be a list of integers and second input must be an integer\""
   ]
  },
  {
   "cell_type": "code",
   "execution_count": 16,
   "metadata": {},
   "outputs": [
    {
     "name": "stdout",
     "output_type": "stream",
     "text": [
      "[0, 1, 2, 3, 4]\n"
     ]
    },
    {
     "data": {
      "text/plain": [
       "'yes'"
      ]
     },
     "execution_count": 16,
     "metadata": {},
     "output_type": "execute_result"
    }
   ],
   "source": [
    "find_num([0, 1, 2, 3, 4, 5, 6, 7, 8, 9, 10], 2)"
   ]
  },
  {
   "cell_type": "code",
   "execution_count": 17,
   "metadata": {},
   "outputs": [
    {
     "name": "stdout",
     "output_type": "stream",
     "text": [
      "[0, 1, 2, 3, 4]\n",
      "[0, 1]\n"
     ]
    },
    {
     "data": {
      "text/plain": [
       "'yes'"
      ]
     },
     "execution_count": 17,
     "metadata": {},
     "output_type": "execute_result"
    }
   ],
   "source": [
    "find_num([0, 1, 2, 3, 4, 5, 6, 7, 8, 9, 10], 1)"
   ]
  },
  {
   "cell_type": "code",
   "execution_count": 18,
   "metadata": {},
   "outputs": [
    {
     "name": "stdout",
     "output_type": "stream",
     "text": [
      "[0, 1, 2, 3, 4]\n",
      "[0, 1]\n"
     ]
    },
    {
     "data": {
      "text/plain": [
       "'yes'"
      ]
     },
     "execution_count": 18,
     "metadata": {},
     "output_type": "execute_result"
    }
   ],
   "source": [
    "find_num([0, 1, 2, 3, 4, 5, 6, 7, 8, 9, 10], 0)"
   ]
  },
  {
   "cell_type": "code",
   "execution_count": 25,
   "metadata": {},
   "outputs": [
    {
     "name": "stdout",
     "output_type": "stream",
     "text": [
      "[0, 1, 2, 3, 4]\n",
      "[0, 1]\n",
      "[]\n"
     ]
    },
    {
     "data": {
      "text/plain": [
       "'not found'"
      ]
     },
     "execution_count": 25,
     "metadata": {},
     "output_type": "execute_result"
    }
   ],
   "source": [
    "find_num([0, 1, 2, 3, 4, 5, 6, 7, 8, 9, 10], -1)"
   ]
  },
  {
   "cell_type": "code",
   "execution_count": 26,
   "metadata": {},
   "outputs": [
    {
     "name": "stdout",
     "output_type": "stream",
     "text": [
      "[0, 1, 2, 3, 4]\n",
      "[0, 1]\n"
     ]
    },
    {
     "data": {
      "text/plain": [
       "'yes'"
      ]
     },
     "execution_count": 26,
     "metadata": {},
     "output_type": "execute_result"
    }
   ],
   "source": [
    "find_num([0, 1, 2, 3, 4, 5, 6, 7, 8, 9, 10], 0)"
   ]
  },
  {
   "cell_type": "code",
   "execution_count": 27,
   "metadata": {},
   "outputs": [
    {
     "name": "stdout",
     "output_type": "stream",
     "text": [
      "[5, 6, 7, 8, 9, 10]\n"
     ]
    },
    {
     "data": {
      "text/plain": [
       "'yes'"
      ]
     },
     "execution_count": 27,
     "metadata": {},
     "output_type": "execute_result"
    }
   ],
   "source": [
    "find_num([0, 1, 2, 3, 4, 5, 6, 7, 8, 9, 10], 8)"
   ]
  },
  {
   "cell_type": "code",
   "execution_count": 28,
   "metadata": {},
   "outputs": [
    {
     "name": "stdout",
     "output_type": "stream",
     "text": [
      "[5, 6, 7, 8, 9, 10]\n",
      "[8, 9, 10]\n",
      "[9, 10]\n"
     ]
    },
    {
     "data": {
      "text/plain": [
       "'yes'"
      ]
     },
     "execution_count": 28,
     "metadata": {},
     "output_type": "execute_result"
    }
   ],
   "source": [
    "find_num([0, 1, 2, 3, 4, 5, 6, 7, 8, 9, 10], 10)"
   ]
  },
  {
   "cell_type": "code",
   "execution_count": 29,
   "metadata": {},
   "outputs": [
    {
     "name": "stdout",
     "output_type": "stream",
     "text": [
      "[5, 6, 7, 8, 9, 10]\n",
      "[8, 9, 10]\n",
      "[9, 10]\n",
      "[10]\n"
     ]
    },
    {
     "data": {
      "text/plain": [
       "'not found'"
      ]
     },
     "execution_count": 29,
     "metadata": {},
     "output_type": "execute_result"
    }
   ],
   "source": [
    "find_num([0, 1, 2, 3, 4, 5, 6, 7, 8, 9, 10], 15)"
   ]
  },
  {
   "cell_type": "code",
   "execution_count": 37,
   "metadata": {},
   "outputs": [
    {
     "data": {
      "text/plain": [
       "'first input must be a list of integers and second input must be an integer'"
      ]
     },
     "execution_count": 37,
     "metadata": {},
     "output_type": "execute_result"
    }
   ],
   "source": [
    "find_num(5, [0, 1, 2, 3, 4, 5, 6, 7, 8, 9, 10])"
   ]
  }
 ],
 "metadata": {
  "kernelspec": {
   "display_name": "Python 3",
   "language": "python",
   "name": "python3"
  },
  "language_info": {
   "codemirror_mode": {
    "name": "ipython",
    "version": 3
   },
   "file_extension": ".py",
   "mimetype": "text/x-python",
   "name": "python",
   "nbconvert_exporter": "python",
   "pygments_lexer": "ipython3",
   "version": "3.11.5"
  }
 },
 "nbformat": 4,
 "nbformat_minor": 2
}
