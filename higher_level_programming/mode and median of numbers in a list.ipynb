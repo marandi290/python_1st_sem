{
 "cells": [
  {
   "cell_type": "markdown",
   "metadata": {},
   "source": [
    "Higher Level Programming"
   ]
  },
  {
   "cell_type": "markdown",
   "metadata": {},
   "source": [
    "2. Given a list of numbers, find out the median and mode."
   ]
  },
  {
   "cell_type": "code",
   "execution_count": 17,
   "metadata": {},
   "outputs": [
    {
     "name": "stdout",
     "output_type": "stream",
     "text": [
      "median: 6\n",
      "mode: 9\n"
     ]
    }
   ],
   "source": [
    "# make a list of numbers manually.\n",
    "list_num = [9, 7, 8, 5, 6, 2, 4, 1, 11, 9, 3]\n",
    "\n",
    "# first we have to arrange it in ascending or descending order.\n",
    "for x in range(len(list_num)):\n",
    "    for i in range(0, len(list_num)-1):\n",
    "        if list_num[i] > list_num[i+1]:\n",
    "            # comparing two continuous numbers of the list.\n",
    "            # and if first one is greater than next,\n",
    "            # swap those numbers.\n",
    "            list_num[i], list_num[i+1] = list_num[i+1], list_num[i]\n",
    "# now we have the list of numbers in ascending order.\n",
    "if len(list_num)%2 ==0:\n",
    "    # if the number of elements in list is even, average of two middle numbers is the median.\n",
    "    median = (list_num[int(len(list_num)/2)-1]+list_num[int(len(list_num)/2)])/2\n",
    "    print(\"median:\", median)\n",
    "else:\n",
    "    # if the numbers of elements in the list is odd, middle one is the median.\n",
    "    median = list_num[int(len(list_num)/2)]\n",
    "    print(\"median:\", median)\n",
    "\n",
    "# now we are going to create a dictionary with keys as numbers and values will be the number of occurrence.\n",
    "dict_f = {}\n",
    "for x in list_num:\n",
    "    fr = 0   # to count how many times that number occurred in the list.\n",
    "    for i in list_num:\n",
    "        if x == i:\n",
    "            fr = fr+1\n",
    "    if x not in dict_f.keys():\n",
    "        dict_f[x] = fr\n",
    "\n",
    "# key with highest value will be the mode.\n",
    "for key in dict_f.keys():\n",
    "    if dict_f[key] == max(dict_f.values()):\n",
    "        print(\"mode:\", key)"
   ]
  }
 ],
 "metadata": {
  "kernelspec": {
   "display_name": "Python 3",
   "language": "python",
   "name": "python3"
  },
  "language_info": {
   "codemirror_mode": {
    "name": "ipython",
    "version": 3
   },
   "file_extension": ".py",
   "mimetype": "text/x-python",
   "name": "python",
   "nbconvert_exporter": "python",
   "pygments_lexer": "ipython3",
   "version": "3.11.5"
  }
 },
 "nbformat": 4,
 "nbformat_minor": 2
}
