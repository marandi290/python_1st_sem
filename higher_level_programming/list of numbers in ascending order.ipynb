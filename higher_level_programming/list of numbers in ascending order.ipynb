{
 "cells": [
  {
   "cell_type": "markdown",
   "metadata": {},
   "source": [
    "Higher Level Programming"
   ]
  },
  {
   "cell_type": "markdown",
   "metadata": {},
   "source": [
    "1. Given a list of numbers, sort it in ascending order."
   ]
  },
  {
   "cell_type": "code",
   "execution_count": 8,
   "metadata": {},
   "outputs": [
    {
     "name": "stdout",
     "output_type": "stream",
     "text": [
      "[1, 2, 4, 5, 6, 7, 8, 9, 9, 11]\n"
     ]
    }
   ],
   "source": [
    "# make a list of numbers manually.\n",
    "list_num = [9, 7, 8, 5, 6, 2, 4, 1, 11, 9]\n",
    "\n",
    "for x in range(len(list_num)):\n",
    "    for i in range(0, len(list_num)-1):\n",
    "        if list_num[i] > list_num[i+1]:\n",
    "            # comparing two continuous numbers of the list.\n",
    "            # and if first one is greater than next,\n",
    "            # swap those numbers.\n",
    "            list_num[i], list_num[i+1] = list_num[i+1], list_num[i]\n",
    "print(list_num)"
   ]
  }
 ],
 "metadata": {
  "kernelspec": {
   "display_name": "Python 3",
   "language": "python",
   "name": "python3"
  },
  "language_info": {
   "codemirror_mode": {
    "name": "ipython",
    "version": 3
   },
   "file_extension": ".py",
   "mimetype": "text/x-python",
   "name": "python",
   "nbconvert_exporter": "python",
   "pygments_lexer": "ipython3",
   "version": "3.11.5"
  }
 },
 "nbformat": 4,
 "nbformat_minor": 2
}
