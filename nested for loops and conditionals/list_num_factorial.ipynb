{
 "cells": [
  {
   "cell_type": "markdown",
   "metadata": {},
   "source": [
    "Concept 4 : Nested For Loops and Conditionals"
   ]
  },
  {
   "cell_type": "markdown",
   "metadata": {},
   "source": [
    "1. Given a list of positive integers, find the factorial of all the numbers."
   ]
  },
  {
   "cell_type": "code",
   "execution_count": 4,
   "metadata": {},
   "outputs": [
    {
     "name": "stdout",
     "output_type": "stream",
     "text": [
      "factorial of 2 is: 2\n",
      "factorial of 3 is: 6\n",
      "factorial of 4 is: 24\n",
      "factorial of 8 is: 40320\n",
      "factorial of 9 is: 362880\n",
      "factorial of 11 is: 39916800\n",
      "-9 is not a positive integer\n",
      "factorial of 5 is: 120\n",
      "factorial of 6 is: 720\n",
      "factorial of 7 is: 5040\n"
     ]
    }
   ],
   "source": [
    "# make a list of positive integers manually.\n",
    "list_int = [2, 3, 4, 8, 9, 11, -9, 5, 6, 7]\n",
    "\n",
    "for x in list_int:\n",
    "    # factorial is only defined for positive integers.\n",
    "    if isinstance(x, int) and x > 0:\n",
    "        num_fact = 1\n",
    "        for i in range(1, x+1):\n",
    "            num_fact = num_fact*i\n",
    "        print(\"factorial of\", x, \"is:\", num_fact)\n",
    "    \n",
    "    else:\n",
    "        print(x, \"is not a positive integer\")"
   ]
  }
 ],
 "metadata": {
  "kernelspec": {
   "display_name": "Python 3",
   "language": "python",
   "name": "python3"
  },
  "language_info": {
   "codemirror_mode": {
    "name": "ipython",
    "version": 3
   },
   "file_extension": ".py",
   "mimetype": "text/x-python",
   "name": "python",
   "nbconvert_exporter": "python",
   "pygments_lexer": "ipython3",
   "version": "3.11.5"
  }
 },
 "nbformat": 4,
 "nbformat_minor": 2
}
