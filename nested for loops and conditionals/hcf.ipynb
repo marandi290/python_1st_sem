{
 "cells": [
  {
   "cell_type": "markdown",
   "metadata": {},
   "source": [
    "Concept 4 : Nested For Loops and Conditionals"
   ]
  },
  {
   "cell_type": "markdown",
   "metadata": {},
   "source": [
    "3. Given two numbers, find its Greatest Common Divisor."
   ]
  },
  {
   "cell_type": "code",
   "execution_count": 6,
   "metadata": {},
   "outputs": [],
   "source": [
    "def func_hcf(n1, n2):\n",
    "    \n",
    "    #hcf is defined for integers and fractions also.\n",
    "    # formula for hcf of fractions: (hcf of numerators)/(lcm of denominators)\n",
    "    \n",
    "    # if given numbers are float, we have to convert those in fractions and separate those in numerators and denominators.\n",
    "    den1 = 1    # for denominator of first number.\n",
    "    den2 = 1    # for denominator of second number.\n",
    "    while n1 != int(n1):\n",
    "        n1 = n1*10\n",
    "        den1 = den1*10\n",
    "    n1 = int(n1)\n",
    "    while n2 != int(n2):\n",
    "        n2 = n2*10\n",
    "        den2 = den2*10\n",
    "    n2 = int(n2)\n",
    "    \n",
    "    # now, calculate hcf of numerators.\n",
    "    hcf = 1\n",
    "    for x in range(2, min(n1, n2)+1):\n",
    "        if n1%x == 0 and n2%x == 0:\n",
    "            hcf = x\n",
    "    \n",
    "    # we have denominators in the form of multiple of 10.\n",
    "    # therefore lcm of denominators is maximum among those numbers.\n",
    "    hcf = hcf/max(den1, den2)\n",
    "    return hcf\n",
    "\n",
    "# this code will work for integers and also for floats."
   ]
  },
  {
   "cell_type": "code",
   "execution_count": 7,
   "metadata": {},
   "outputs": [
    {
     "data": {
      "text/plain": [
       "100.0"
      ]
     },
     "execution_count": 7,
     "metadata": {},
     "output_type": "execute_result"
    }
   ],
   "source": [
    "func_hcf(100, 1000)"
   ]
  },
  {
   "cell_type": "code",
   "execution_count": 9,
   "metadata": {},
   "outputs": [
    {
     "data": {
      "text/plain": [
       "2.2"
      ]
     },
     "execution_count": 9,
     "metadata": {},
     "output_type": "execute_result"
    }
   ],
   "source": [
    "func_hcf(4.4, 22)"
   ]
  }
 ],
 "metadata": {
  "kernelspec": {
   "display_name": "Python 3",
   "language": "python",
   "name": "python3"
  },
  "language_info": {
   "codemirror_mode": {
    "name": "ipython",
    "version": 3
   },
   "file_extension": ".py",
   "mimetype": "text/x-python",
   "name": "python",
   "nbconvert_exporter": "python",
   "pygments_lexer": "ipython3",
   "version": "3.11.5"
  }
 },
 "nbformat": 4,
 "nbformat_minor": 2
}
