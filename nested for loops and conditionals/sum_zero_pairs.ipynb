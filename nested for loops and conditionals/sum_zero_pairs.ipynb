{
 "cells": [
  {
   "cell_type": "markdown",
   "metadata": {},
   "source": [
    "Concept 4 : Nested For Loops and Conditionals"
   ]
  },
  {
   "cell_type": "markdown",
   "metadata": {},
   "source": [
    "7. Given a list of integers, find all pairs of integers in the list whose sum is zero."
   ]
  },
  {
   "cell_type": "code",
   "execution_count": 5,
   "metadata": {},
   "outputs": [
    {
     "name": "stdout",
     "output_type": "stream",
     "text": [
      "[(23, -23), (12, -12), (-89, 89), (56, -56)]\n"
     ]
    }
   ],
   "source": [
    "# make a list of integers manually.\n",
    "list_num = [23, 12, 24, 34, 45, -89, 56, 67, 78, 89, 90, -12, -56, -23]\n",
    "\n",
    "list_pair = []\n",
    "for x in list_num:\n",
    "    for i in list_num:\n",
    "        if x+i == 0:\n",
    "            if (i, x) not in list_pair:\n",
    "                list_pair.append((x, i))\n",
    "print(list_pair)"
   ]
  }
 ],
 "metadata": {
  "kernelspec": {
   "display_name": "Python 3",
   "language": "python",
   "name": "python3"
  },
  "language_info": {
   "codemirror_mode": {
    "name": "ipython",
    "version": 3
   },
   "file_extension": ".py",
   "mimetype": "text/x-python",
   "name": "python",
   "nbconvert_exporter": "python",
   "pygments_lexer": "ipython3",
   "version": "3.11.5"
  }
 },
 "nbformat": 4,
 "nbformat_minor": 2
}
