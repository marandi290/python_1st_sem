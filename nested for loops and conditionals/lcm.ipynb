{
 "cells": [
  {
   "cell_type": "markdown",
   "metadata": {},
   "source": [
    "Concept 4 : Nested For Loops and Conditionals"
   ]
  },
  {
   "cell_type": "markdown",
   "metadata": {},
   "source": [
    "2. Given two numbers, find its Least Common Multiple (LCM)."
   ]
  },
  {
   "cell_type": "code",
   "execution_count": 5,
   "metadata": {},
   "outputs": [],
   "source": [
    "def func_lcm(n1, n2):\n",
    "    # formula for lcm of fractions is:  (lcm of numerators)/(hcf of denominator.\n",
    "    # we are converting decimal numbers into fractions and separate it in numerator and denominator.\n",
    "    den1 = 1  # for denominator of first number\n",
    "    den2 = 1  # for denominator of second number\n",
    "    while n1 != int(n1):\n",
    "        n1 = n1*10\n",
    "        den1 = den1*10\n",
    "    n1 = int(n1)   # numerator of first number\n",
    "    while n2 != int(n2):\n",
    "        n2 = n2*10\n",
    "        den2 = den2*10\n",
    "    n2 = int(n2)   # numerator of 2nd number\n",
    "    lcm = 1\n",
    "    for x in range(2, max(n1, n2)+1):\n",
    "        while n1%x == 0 and n2%x == 0:\n",
    "            lcm = lcm*x\n",
    "            n1 = n1//x\n",
    "            n2 = n2//x\n",
    "            \n",
    "            # we have denominators in the form of multiple of 10.\n",
    "            # their hcf will be minimum of those numbers.\n",
    "    lcm = (lcm*n1*n2)/min(den1, den2)\n",
    "    return lcm\n",
    "\n",
    "# this code will work for integers and as well as for floats also."
   ]
  },
  {
   "cell_type": "code",
   "execution_count": 6,
   "metadata": {},
   "outputs": [
    {
     "data": {
      "text/plain": [
       "54.4"
      ]
     },
     "execution_count": 6,
     "metadata": {},
     "output_type": "execute_result"
    }
   ],
   "source": [
    "func_lcm(3.4, 3.2)"
   ]
  },
  {
   "cell_type": "code",
   "execution_count": 7,
   "metadata": {},
   "outputs": [
    {
     "data": {
      "text/plain": [
       "-54.4"
      ]
     },
     "execution_count": 7,
     "metadata": {},
     "output_type": "execute_result"
    }
   ],
   "source": [
    "func_lcm(-3.4, 3.2)"
   ]
  },
  {
   "cell_type": "code",
   "execution_count": 9,
   "metadata": {},
   "outputs": [
    {
     "data": {
      "text/plain": [
       "8.0"
      ]
     },
     "execution_count": 9,
     "metadata": {},
     "output_type": "execute_result"
    }
   ],
   "source": [
    "func_lcm(4, 8)"
   ]
  },
  {
   "cell_type": "code",
   "execution_count": 10,
   "metadata": {},
   "outputs": [
    {
     "data": {
      "text/plain": [
       "0.0"
      ]
     },
     "execution_count": 10,
     "metadata": {},
     "output_type": "execute_result"
    }
   ],
   "source": [
    "func_lcm(0,0)"
   ]
  }
 ],
 "metadata": {
  "kernelspec": {
   "display_name": "Python 3",
   "language": "python",
   "name": "python3"
  },
  "language_info": {
   "codemirror_mode": {
    "name": "ipython",
    "version": 3
   },
   "file_extension": ".py",
   "mimetype": "text/x-python",
   "name": "python",
   "nbconvert_exporter": "python",
   "pygments_lexer": "ipython3",
   "version": "3.11.5"
  }
 },
 "nbformat": 4,
 "nbformat_minor": 2
}
