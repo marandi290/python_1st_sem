{
 "cells": [
  {
   "cell_type": "markdown",
   "metadata": {},
   "source": [
    "Concept 4 : Nested For Loops and Conditionals"
   ]
  },
  {
   "cell_type": "markdown",
   "metadata": {},
   "source": [
    "2. Given two numbers, find its Least Common Multiple (LCM)."
   ]
  },
  {
   "cell_type": "code",
   "execution_count": 1,
   "metadata": {},
   "outputs": [],
   "source": [
    "def func_lcm(n1, n2):\n",
    "    q1 = n1\n",
    "    q2 = n2\n",
    "    if isinstance(q1, int) and isinstance(q2, int):\n",
    "        if q1>q2:\n",
    "            lcm = 1\n",
    "            for x in range(2, q1+1):\n",
    "                while q1%x == 0 and q2%x == 0:\n",
    "                    lcm = lcm*x\n",
    "                    q1 = q1//x\n",
    "                    q2 = q2//x\n",
    "            lcm = lcm*q1*q2\n",
    "            return lcm\n",
    "        else:\n",
    "            lcm = 1\n",
    "            for x in range(2, q2+1):\n",
    "                while q1%x == 0 and q2%x == 0:\n",
    "                    lcm = lcm*x\n",
    "                    q1 = q1//x\n",
    "                    q2 = q2//x\n",
    "            lcm = lcm*q1*q2\n",
    "            return lcm\n",
    "        \n",
    "    # formula for lcm of fractions is:  (lcm of numerators)/(hcf of denominator)\n",
    "    else:\n",
    "        \n",
    "        # we are converting decimal numbers into fractions and separate it in numerator and denominator.\n",
    "        den1 = 1  # for denominator of first number\n",
    "        den2 = 1  # for denominator of second number\n",
    "        while q1 != int(q1):\n",
    "            q1 = q1*10\n",
    "            den1 = den1*10\n",
    "        q1 = int(q1)   # numerator of first number\n",
    "        while q2 != int(q2):\n",
    "            q2 = q2*10\n",
    "            den2 = den2*10\n",
    "        q2 = int(q2)   # numerator of 2nd number\n",
    "        if q1>q2:\n",
    "            lcm = 1\n",
    "            for x in range(2, q1+1):\n",
    "                while q1%x == 0 and q2%x == 0:\n",
    "                    lcm = lcm*x\n",
    "                    q1 = q1//x\n",
    "                    q2 = q2//x\n",
    "            \n",
    "            # we have denominators in the form of multiple of 10.\n",
    "            # their hcf will be minimum of those numbers.\n",
    "            lcm = (lcm*q1*q2)/min(den1, den2)\n",
    "            return lcm\n",
    "        else:\n",
    "            lcm = 1\n",
    "            for x in range(2, q2+1):\n",
    "                while q1%x == 0 and q2%x == 0:\n",
    "                    lcm = lcm*x\n",
    "                    q1 = q1//x\n",
    "                    q2 = q2//x\n",
    "            lcm = (lcm*q1*q2)/min(den1, den2)\n",
    "            return lcm\n",
    "    "
   ]
  },
  {
   "cell_type": "code",
   "execution_count": 2,
   "metadata": {},
   "outputs": [
    {
     "data": {
      "text/plain": [
       "54.4"
      ]
     },
     "execution_count": 2,
     "metadata": {},
     "output_type": "execute_result"
    }
   ],
   "source": [
    "func_lcm(3.4, 3.2)"
   ]
  },
  {
   "cell_type": "code",
   "execution_count": 3,
   "metadata": {},
   "outputs": [
    {
     "data": {
      "text/plain": [
       "-54.4"
      ]
     },
     "execution_count": 3,
     "metadata": {},
     "output_type": "execute_result"
    }
   ],
   "source": [
    "func_lcm(-3.4, 3.2)"
   ]
  },
  {
   "cell_type": "code",
   "execution_count": 4,
   "metadata": {},
   "outputs": [
    {
     "data": {
      "text/plain": [
       "0"
      ]
     },
     "execution_count": 4,
     "metadata": {},
     "output_type": "execute_result"
    }
   ],
   "source": [
    "func_lcm(0, 0)"
   ]
  }
 ],
 "metadata": {
  "kernelspec": {
   "display_name": "Python 3",
   "language": "python",
   "name": "python3"
  },
  "language_info": {
   "codemirror_mode": {
    "name": "ipython",
    "version": 3
   },
   "file_extension": ".py",
   "mimetype": "text/x-python",
   "name": "python",
   "nbconvert_exporter": "python",
   "pygments_lexer": "ipython3",
   "version": "3.11.5"
  }
 },
 "nbformat": 4,
 "nbformat_minor": 2
}
