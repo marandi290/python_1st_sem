{
 "cells": [
  {
   "cell_type": "markdown",
   "metadata": {},
   "source": [
    "Concept 4 : Nested For Loops and Conditionals"
   ]
  },
  {
   "cell_type": "markdown",
   "metadata": {},
   "source": [
    "4. Given a positive integer, find out all prime numbers from 1 up to this number."
   ]
  },
  {
   "cell_type": "code",
   "execution_count": 30,
   "metadata": {},
   "outputs": [
    {
     "name": "stdout",
     "output_type": "stream",
     "text": [
      "[2, 3]\n"
     ]
    }
   ],
   "source": [
    "\n",
    "# take a positive integer by input from user.\n",
    "int4 = int(input(\"Enter a positive integer\"))\n",
    "\n",
    "if int4>0:\n",
    "    prime = []\n",
    "    for x in range(1, int4+1):\n",
    "        a = 0\n",
    "        for i in range(1, x+1):\n",
    "            if x%i == 0:\n",
    "                a = a+1\n",
    "        \n",
    "        # prime number has only two divisors 1 and itself.\n",
    "        if a == 2:\n",
    "            prime.append(x)\n",
    "    print(prime)\n",
    "\n",
    "else:\n",
    "    print(int4, \"is not a positive integer\")"
   ]
  }
 ],
 "metadata": {
  "kernelspec": {
   "display_name": "Python 3",
   "language": "python",
   "name": "python3"
  },
  "language_info": {
   "codemirror_mode": {
    "name": "ipython",
    "version": 3
   },
   "file_extension": ".py",
   "mimetype": "text/x-python",
   "name": "python",
   "nbconvert_exporter": "python",
   "pygments_lexer": "ipython3",
   "version": "3.11.5"
  }
 },
 "nbformat": 4,
 "nbformat_minor": 2
}
