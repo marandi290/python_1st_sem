{
 "cells": [
  {
   "cell_type": "markdown",
   "metadata": {},
   "source": [
    "Concept 4 : Nested For Loops and Conditionals"
   ]
  },
  {
   "cell_type": "markdown",
   "metadata": {},
   "source": [
    "9. Given a string input, find out if it's a palindrome."
   ]
  },
  {
   "cell_type": "code",
   "execution_count": 17,
   "metadata": {},
   "outputs": [],
   "source": [
    "def palindrome(string):\n",
    "    \n",
    "    # for checking a sentence, whether it's palindrome or not, we ignore capitalization.\n",
    "    # therefore, we will convert whole string in capital form by using .upper() function.\n",
    "    string2 = string.upper()\n",
    "    letter = \"ABCDEFGHIJKLMNOPQRSTUVWXYZ\"\n",
    "    \n",
    "    # for palindrome, we also ignore space and punctuations.\n",
    "    # Now, we will remove blank spaces and punctuations.\n",
    "    # in above variable(letter) has no any space and punctuation.\n",
    "    new_string = \"\"  # to make a new string with no small letters, no punctuations and no spaces.\n",
    "    len_new_str = 0\n",
    "    for x in string2:\n",
    "        if x in letter:\n",
    "            new_string = new_string + x\n",
    "            len_new_str = len_new_str + 1\n",
    "    \n",
    "    a = -1\n",
    "    for x in new_string:\n",
    "        if x == new_string[a]:\n",
    "            a = a-1\n",
    "    \n",
    "    if len_new_str == -(a+1):\n",
    "        return \"yes\""
   ]
  },
  {
   "cell_type": "code",
   "execution_count": 18,
   "metadata": {},
   "outputs": [
    {
     "data": {
      "text/plain": [
       "'yes'"
      ]
     },
     "execution_count": 18,
     "metadata": {},
     "output_type": "execute_result"
    }
   ],
   "source": [
    "palindrome(\"Do geese see God?\")"
   ]
  }
 ],
 "metadata": {
  "kernelspec": {
   "display_name": "Python 3",
   "language": "python",
   "name": "python3"
  },
  "language_info": {
   "codemirror_mode": {
    "name": "ipython",
    "version": 3
   },
   "file_extension": ".py",
   "mimetype": "text/x-python",
   "name": "python",
   "nbconvert_exporter": "python",
   "pygments_lexer": "ipython3",
   "version": "3.11.5"
  }
 },
 "nbformat": 4,
 "nbformat_minor": 2
}
