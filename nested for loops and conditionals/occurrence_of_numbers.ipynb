{
 "cells": [
  {
   "cell_type": "markdown",
   "metadata": {},
   "source": [
    "Concept 4 : Nested For Loops and Conditionals"
   ]
  },
  {
   "cell_type": "markdown",
   "metadata": {},
   "source": [
    "6. Given a list of numbers, find out how many times each number occurs in the list."
   ]
  },
  {
   "cell_type": "code",
   "execution_count": 1,
   "metadata": {},
   "outputs": [
    {
     "name": "stdout",
     "output_type": "stream",
     "text": [
      "{'56': 1, '78': 2, '-9': 4, '87': 2, '-67': 1, '23': 1, '12': 1}\n"
     ]
    }
   ],
   "source": [
    "# make a list of numbers manually.\n",
    "list_num = [56, 78, -9, 87, -67, -9, 23, 12, -9, 78, 87, -9]\n",
    "\n",
    "dict_f = {}\n",
    "# we will assign the frequency of occurrence of each number in forms of keys and values. \n",
    "for x in list_num:\n",
    "    a = 0   #for count how many times a number occurred in the list.\n",
    "    for i in list_num:\n",
    "        if i == x:\n",
    "            a = a+1\n",
    "    if \"x\" not in dict_f.keys():\n",
    "        dict_f[str(x)] = a\n",
    "\n",
    "print(dict_f)\n"
   ]
  }
 ],
 "metadata": {
  "kernelspec": {
   "display_name": "Python 3",
   "language": "python",
   "name": "python3"
  },
  "language_info": {
   "codemirror_mode": {
    "name": "ipython",
    "version": 3
   },
   "file_extension": ".py",
   "mimetype": "text/x-python",
   "name": "python",
   "nbconvert_exporter": "python",
   "pygments_lexer": "ipython3",
   "version": "3.11.5"
  }
 },
 "nbformat": 4,
 "nbformat_minor": 2
}
