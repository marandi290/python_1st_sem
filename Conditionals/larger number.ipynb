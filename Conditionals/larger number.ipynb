{
 "cells": [
  {
   "cell_type": "markdown",
   "metadata": {},
   "source": [
    "Concept 1 : Conditionals[If-else]"
   ]
  },
  {
   "cell_type": "markdown",
   "metadata": {},
   "source": [
    "2. Given two integers, find the larger one."
   ]
  },
  {
   "cell_type": "code",
   "execution_count": 1,
   "metadata": {},
   "outputs": [
    {
     "name": "stdout",
     "output_type": "stream",
     "text": [
      "6 is larger\n"
     ]
    }
   ],
   "source": [
    "# take integers.\n",
    "int1 = int(input(\"Enter an integer\"))\n",
    "int2 = int(input(\"Enter an integer\"))\n",
    "\n",
    "if int1>int2:\n",
    "    # first integer can be greater.\n",
    "    print(int1, \"is larger\")\n",
    "elif int2>int1:\n",
    "    # second integer can be greater.\n",
    "    print(int2, \"is larger\")\n",
    "else:\n",
    "    # both the integers can be equal.\n",
    "    print(\"both integers are equal\")"
   ]
  }
 ],
 "metadata": {
  "kernelspec": {
   "display_name": "Python 3",
   "language": "python",
   "name": "python3"
  },
  "language_info": {
   "codemirror_mode": {
    "name": "ipython",
    "version": 3
   },
   "file_extension": ".py",
   "mimetype": "text/x-python",
   "name": "python",
   "nbconvert_exporter": "python",
   "pygments_lexer": "ipython3",
   "version": "3.11.5"
  }
 },
 "nbformat": 4,
 "nbformat_minor": 2
}
