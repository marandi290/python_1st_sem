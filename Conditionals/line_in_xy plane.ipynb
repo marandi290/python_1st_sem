{
 "cells": [
  {
   "cell_type": "markdown",
   "metadata": {},
   "source": [
    "Concept 1 : Conditionals [if-else]"
   ]
  },
  {
   "cell_type": "markdown",
   "metadata": {},
   "source": [
    "7. Given two points (x1, y1) and (x2, y2)\n",
    "    find the slope and intercept of the line joining these two points.\n",
    "    the line may be perfectly horizontal or vertical."
   ]
  },
  {
   "cell_type": "code",
   "execution_count": 1,
   "metadata": {},
   "outputs": [
    {
     "name": "stdout",
     "output_type": "stream",
     "text": [
      "The slope of the line joining these two points is: -0.0\n",
      "y-intercept of the line is: 9.0\n",
      "x-intercept is not defined\n"
     ]
    }
   ],
   "source": [
    "# let a point (x1, y1)\n",
    "x1 = float(input(\"Enter a number\"))\n",
    "y1 = float(input(\"Enter a number\"))\n",
    "\n",
    "# let an another point (x2, y2)\n",
    "x2 = float(input(\"Enter a number\"))\n",
    "y2 = float(input(\"Enter a number\"))\n",
    "\n",
    "# let's find the slope.\n",
    "if x1-x2 == 0:\n",
    "    # It is a vertical line.\n",
    "    print(\"The slope is not defined\")\n",
    "    print(\"x-intercept of the line joining these two points is:\", x1)\n",
    "else:\n",
    "    m = (y2-y1)/(x2-x1)\n",
    "    print(\"The slope of the line joining these two points is:\", m)\n",
    "    # let equation of the line is y = mx+c, \n",
    "    # where m is slope and c is y-intercept\n",
    "    # by putting x1 and y1 in this equation, we will get c(y-intercept)\n",
    "    c = y1 - m*x1\n",
    "    print(\"y-intercept of the line is:\", c)\n",
    "    \n",
    "    if m == 0:    #horizontal line\n",
    "        print(\"x-intercept is not defined\")\n",
    "    # by putting y = 0 in equation of line, we will get x-intercept.\n",
    "    else:\n",
    "        x_int = (-c)/m\n",
    "        print(\"x-intercept of the line joining these two points is:\", x_int)"
   ]
  }
 ],
 "metadata": {
  "kernelspec": {
   "display_name": "Python 3",
   "language": "python",
   "name": "python3"
  },
  "language_info": {
   "codemirror_mode": {
    "name": "ipython",
    "version": 3
   },
   "file_extension": ".py",
   "mimetype": "text/x-python",
   "name": "python",
   "nbconvert_exporter": "python",
   "pygments_lexer": "ipython3",
   "version": "3.11.5"
  }
 },
 "nbformat": 4,
 "nbformat_minor": 2
}
