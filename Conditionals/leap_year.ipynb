{
 "cells": [
  {
   "cell_type": "markdown",
   "metadata": {},
   "source": [
    "Concept 1 : Conditionals[If-else]"
   ]
  },
  {
   "cell_type": "markdown",
   "metadata": {},
   "source": [
    "4. Given a year, Check if it is a leap year or not.\n",
    "A leap year is divisible by 4, except for years that are divisible by 100.\n",
    "However, years that are divisible by 400 are also a leap year."
   ]
  },
  {
   "cell_type": "code",
   "execution_count": 1,
   "metadata": {},
   "outputs": [
    {
     "name": "stdout",
     "output_type": "stream",
     "text": [
      "6788 is a leap year\n"
     ]
    }
   ],
   "source": [
    "# Take a year.\n",
    "# year is always an integer.\n",
    "year = int(input(\"enter a year\"))\n",
    "\n",
    "if year%400 == 0:\n",
    "    # year divisible by 400 is always a leap year.\n",
    "    print(year, \"is a leap year\")\n",
    "elif year%100 == 0:\n",
    "    # year which is not divisible by 400, but divisible by 100, is not a leap year.\n",
    "    print(year, \"is not a leap year\")\n",
    "elif year%4 == 0:\n",
    "    # year which is divisible by 4, but not divisible by 100, is a leap year.\n",
    "    print(year, \"is a leap year\")\n",
    "else:\n",
    "    print(year, \"is not a leap year\")"
   ]
  }
 ],
 "metadata": {
  "kernelspec": {
   "display_name": "Python 3",
   "language": "python",
   "name": "python3"
  },
  "language_info": {
   "codemirror_mode": {
    "name": "ipython",
    "version": 3
   },
   "file_extension": ".py",
   "mimetype": "text/x-python",
   "name": "python",
   "nbconvert_exporter": "python",
   "pygments_lexer": "ipython3",
   "version": "3.11.5"
  }
 },
 "nbformat": 4,
 "nbformat_minor": 2
}
