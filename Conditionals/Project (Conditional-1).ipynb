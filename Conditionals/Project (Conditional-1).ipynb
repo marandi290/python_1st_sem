{
 "cells": [
  {
   "cell_type": "markdown",
   "metadata": {},
   "source": [
    "Concept 1 : Conditionals[If-else]"
   ]
  },
  {
   "cell_type": "markdown",
   "metadata": {},
   "source": [
    "1. Given an integer, check if it is even or odd."
   ]
  },
  {
   "cell_type": "code",
   "execution_count": 4,
   "metadata": {},
   "outputs": [
    {
     "name": "stdout",
     "output_type": "stream",
     "text": [
      "1 is an odd number\n"
     ]
    }
   ],
   "source": [
    "# take an integer.\n",
    "int1 = int(input(\"Enter an integer\"))\n",
    "\n",
    "if int1%2 == 0:\n",
    "    # even number has 0 as a reminder, when it's devided by 2.\n",
    "    print(int1, \"is an even number\")\n",
    "else:\n",
    "    # odd number has 1 as a reminder, when it's devided by 2.\n",
    "    print(int1, \"is an odd number\")"
   ]
  }
 ],
 "metadata": {
  "kernelspec": {
   "display_name": "Python 3",
   "language": "python",
   "name": "python3"
  },
  "language_info": {
   "codemirror_mode": {
    "name": "ipython",
    "version": 3
   },
   "file_extension": ".py",
   "mimetype": "text/x-python",
   "name": "python",
   "nbconvert_exporter": "python",
   "pygments_lexer": "ipython3",
   "version": "3.11.5"
  }
 },
 "nbformat": 4,
 "nbformat_minor": 2
}
