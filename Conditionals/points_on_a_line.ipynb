{
 "cells": [
  {
   "cell_type": "markdown",
   "metadata": {},
   "source": [
    "Concept 1 : Conditionals [If-else]"
   ]
  },
  {
   "cell_type": "markdown",
   "metadata": {},
   "source": [
    "9. Given three points, find out whether they lie on the same straight line or not."
   ]
  },
  {
   "cell_type": "code",
   "execution_count": null,
   "metadata": {},
   "outputs": [],
   "source": [
    "# Let three points are p1(x1, y1), p2(x2, y2) and p3(x3, y3).\n",
    "x1 = float(input(\"Enter x-coordinate of p1\"))\n",
    "y1 = float(input(\"Enter y-coordinate of p1\"))\n",
    "\n",
    "x2 = float(input(\"Enter x-coordinate of p2\"))\n",
    "y2 = float(input(\"Enter y-coordinate of p2\"))\n",
    "\n",
    "x3 = float(input(\"Enter x-coordinate of p3\"))\n",
    "y3 = float(input(\"Enter y-coordinate of p3\"))\n",
    "\n",
    "# if area of the triangle made by these three point is zero, then all points will lie in a same straight line.\n",
    "# therefore we are finding area of this triangle.\n",
    "# area of triangle using coordinates is: A = [x1(y2 - y3) + x2(y3 - y1) + x3(y1 - y2)]/2\n",
    "A = (x1*(y2 - y3) + x2*(y3 - y1) + x3*(y1 - y2))/2\n",
    "\n",
    "if A == 0:\n",
    "    print(\"all three points lie on the same straight line\")\n",
    "\n",
    "else:\n",
    "    print(\"these points are not in same straight line\")"
   ]
  }
 ],
 "metadata": {
  "kernelspec": {
   "display_name": "Python 3",
   "language": "python",
   "name": "python3"
  },
  "language_info": {
   "name": "python",
   "version": "3.11.5"
  }
 },
 "nbformat": 4,
 "nbformat_minor": 2
}
