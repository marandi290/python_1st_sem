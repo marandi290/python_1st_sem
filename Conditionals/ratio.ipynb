{
 "cells": [
  {
   "cell_type": "markdown",
   "metadata": {},
   "source": [
    "Concept 1 : Conditionals[If-else]"
   ]
  },
  {
   "cell_type": "markdown",
   "metadata": {},
   "source": [
    "5. Given two numbers a and b, find the value of a/b.\n",
    "    b may be zero."
   ]
  },
  {
   "cell_type": "code",
   "execution_count": 1,
   "metadata": {},
   "outputs": [
    {
     "name": "stdout",
     "output_type": "stream",
     "text": [
      "division is not defined\n"
     ]
    }
   ],
   "source": [
    "# Take two numbers. They can be both int and float.\n",
    "a = float(input(\"Enter a number\"))\n",
    "b = float(input(\"Enter a number\"))\n",
    "\n",
    "if b == 0:\n",
    "    # for defined devision, denominator must not be zero.\n",
    "    print(\"division is not defined\")\n",
    "else:\n",
    "    rto = a/b\n",
    "    print(\"The value of division is\", rto)"
   ]
  }
 ],
 "metadata": {
  "kernelspec": {
   "display_name": "Python 3",
   "language": "python",
   "name": "python3"
  },
  "language_info": {
   "codemirror_mode": {
    "name": "ipython",
    "version": 3
   },
   "file_extension": ".py",
   "mimetype": "text/x-python",
   "name": "python",
   "nbconvert_exporter": "python",
   "pygments_lexer": "ipython3",
   "version": "3.11.5"
  }
 },
 "nbformat": 4,
 "nbformat_minor": 2
}
