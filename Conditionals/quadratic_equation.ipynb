{
 "cells": [
  {
   "cell_type": "markdown",
   "metadata": {},
   "source": [
    "Concept 1 : Conditionals [If-else]"
   ]
  },
  {
   "cell_type": "markdown",
   "metadata": {},
   "source": [
    "8. Given a quadratic equation with coefficients a, b and c.\n",
    "    Find the two solutions (may be real or complex).\n",
    "    You should not take the square root of a negative number in your code."
   ]
  },
  {
   "cell_type": "code",
   "execution_count": 1,
   "metadata": {},
   "outputs": [
    {
     "name": "stdout",
     "output_type": "stream",
     "text": [
      "We have two imaginary solutions:\n",
      "-0.5 + 0.5 i\n",
      "-0.5 - 0.5 i\n"
     ]
    }
   ],
   "source": [
    "# Let the quadratic equation is ax2 + bx + c.\n",
    "# take the values of a, b and c by inputs from user.\n",
    "a = float(input(\"Enter a number\"))\n",
    "b = float(input(\"Enter a number\"))\n",
    "c = float(input(\"Enter a number\"))\n",
    "\n",
    "# Find discriminant(d) of this equation.\n",
    "d = b**2 - 4*a*c\n",
    "\n",
    "# We are using quadratic formula to find solutions.\n",
    "if d>0:\n",
    "    s1 = (-b + d**0.5)/(2*a)\n",
    "    s2 = (-b - d**0.5)/(2*a)\n",
    "    print(\"We have two different solutions:\", s1, \"and\", s2)\n",
    "\n",
    "elif d == 0:\n",
    "    s = (-b + d**0.5)/(2*a)\n",
    "    print(\"We have two equal solutions:\", s)\n",
    "    \n",
    "else:\n",
    "    print(\"We have two imaginary solutions:\")\n",
    "    print(-b/(2*a), '+', (-d)**0.5/(2*a),'i')      # i stands for square root of -1\n",
    "    print(-b/(2*a), '-', (-d)**0.5/(2*a),'i')"
   ]
  }
 ],
 "metadata": {
  "kernelspec": {
   "display_name": "Python 3",
   "language": "python",
   "name": "python3"
  },
  "language_info": {
   "codemirror_mode": {
    "name": "ipython",
    "version": 3
   },
   "file_extension": ".py",
   "mimetype": "text/x-python",
   "name": "python",
   "nbconvert_exporter": "python",
   "pygments_lexer": "ipython3",
   "version": "3.11.5"
  }
 },
 "nbformat": 4,
 "nbformat_minor": 2
}
