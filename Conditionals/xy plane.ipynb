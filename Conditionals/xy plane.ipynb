{
 "cells": [
  {
   "cell_type": "markdown",
   "metadata": {},
   "source": [
    "Concept 1 : Conditionals [If-else]"
   ]
  },
  {
   "cell_type": "markdown",
   "metadata": {},
   "source": [
    "6. Given a point (x1, y1), find the quadrant in which this point lies."
   ]
  },
  {
   "cell_type": "code",
   "execution_count": 4,
   "metadata": {},
   "outputs": [
    {
     "name": "stdout",
     "output_type": "stream",
     "text": [
      "The point (6.0, 0.0) lies in the positive x-axis\n"
     ]
    }
   ],
   "source": [
    "# take the coordinates of the point (x1, y1).\n",
    "x1 = float(input(\"enter a number\"))\n",
    "y1 = float(input(\"enter a number\"))\n",
    "\n",
    "if x1>0:\n",
    "    if y1>0:\n",
    "    # if both quadrants are positive, the point will lie in 1st quadrant.\n",
    "        print(\"The point\", (x1, y1), \"lies in the 1st quadrant\")\n",
    "    elif y1<0:\n",
    "    # for positive x-coordinate and a negative y-coordinate, the point will lie in 4th quadrant.\n",
    "        print(\"The point\", (x1, y1), \" lies in the 4th quadrant\")\n",
    "    else:   # y1 = 0\n",
    "        print(\"The point\", (x1, y1), \"lies in the positive x-axis\")\n",
    "\n",
    "elif x1<0:\n",
    "    if y1>0:\n",
    "    # for a negative x-coordinate and a positive y-coordinate, the point will lie in the 2nd coordinate.\n",
    "        print(\"The point\", (x1, y1), \" lies in the 2nd quadrant\")\n",
    "    elif y1<0:\n",
    "    # if both the coordinates are negative, the point will lie in the 3rd quadrant.\n",
    "        print(\"The point\", (x1, y1), \" lies in the 3rd quadrant\")\n",
    "    else: # y1 = 0\n",
    "        print(\"The point\", (x1, y1), \" lies in the negative x-axis\")\n",
    "\n",
    "else:         # for x1 = 0\n",
    "    if y1>0:\n",
    "        print(\"The point\", (x1, y1), \" lies in the positive y-axis\")\n",
    "    elif y1<0:\n",
    "        print(\"The point\", (x1, y1), \" lies in the negative y-axis\")\n",
    "    else:     # both the coordinates are equal to zero.\n",
    "        print(\"The\", (x1, y1), \" point lies on the origin\")"
   ]
  }
 ],
 "metadata": {
  "kernelspec": {
   "display_name": "Python 3",
   "language": "python",
   "name": "python3"
  },
  "language_info": {
   "codemirror_mode": {
    "name": "ipython",
    "version": 3
   },
   "file_extension": ".py",
   "mimetype": "text/x-python",
   "name": "python",
   "nbconvert_exporter": "python",
   "pygments_lexer": "ipython3",
   "version": "3.11.5"
  }
 },
 "nbformat": 4,
 "nbformat_minor": 2
}
