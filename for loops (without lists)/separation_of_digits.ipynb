{
 "cells": [
  {
   "cell_type": "markdown",
   "metadata": {},
   "source": [
    "Concept 2 : for loops (without lists)"
   ]
  },
  {
   "cell_type": "markdown",
   "metadata": {},
   "source": [
    "9. Given a positive integer, print each of its digit separately without converting the number into a string."
   ]
  },
  {
   "cell_type": "code",
   "execution_count": 24,
   "metadata": {},
   "outputs": [
    {
     "name": "stdout",
     "output_type": "stream",
     "text": [
      "4\n",
      "3\n",
      "2\n"
     ]
    }
   ],
   "source": [
    "# take an integer by input from user.\n",
    "int9 = int(input(\"Enter an integer\"))\n",
    "\n",
    "if int9>0:\n",
    "    rev_digit = []\n",
    "    q = int9\n",
    "    while (q//10) >= 1:\n",
    "        # if we divide any positive integer by 10, the reminder will be last digit.\n",
    "        r = q%10\n",
    "        rev_digit.append(r)\n",
    "        q = q//10\n",
    "    \n",
    "    # after completion of this while loop, we will have q equal to first digit of the given number.\n",
    "    print(q)\n",
    "    \n",
    "    # In the list rev_digit, we have all digits except first digit in reverse order.\n",
    "    # Therefore, we have to print the elements of this list in reverse order.\n",
    "    a = -1\n",
    "    for x in range(len(rev_digit)):\n",
    "        print(rev_digit[a])\n",
    "        a = a-1\n",
    "        "
   ]
  }
 ],
 "metadata": {
  "kernelspec": {
   "display_name": "Python 3",
   "language": "python",
   "name": "python3"
  },
  "language_info": {
   "codemirror_mode": {
    "name": "ipython",
    "version": 3
   },
   "file_extension": ".py",
   "mimetype": "text/x-python",
   "name": "python",
   "nbconvert_exporter": "python",
   "pygments_lexer": "ipython3",
   "version": "3.11.5"
  }
 },
 "nbformat": 4,
 "nbformat_minor": 2
}
