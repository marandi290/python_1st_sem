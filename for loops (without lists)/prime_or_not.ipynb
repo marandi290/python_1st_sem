{
 "cells": [
  {
   "cell_type": "markdown",
   "metadata": {},
   "source": [
    "Concept 2 : for loops (without lists)"
   ]
  },
  {
   "cell_type": "markdown",
   "metadata": {},
   "source": [
    "4. Given a positive integer, find out if it's prime or not."
   ]
  },
  {
   "cell_type": "code",
   "execution_count": 30,
   "metadata": {},
   "outputs": [
    {
     "name": "stdout",
     "output_type": "stream",
     "text": [
      "It's a prime number\n"
     ]
    }
   ],
   "source": [
    "# take an integer by input from user.\n",
    "\n",
    "int4 = int(input(\"Enter an integer\"))\n",
    "\n",
    "if int4>0:    # prime is only defined for a positive integer.\n",
    "    a = 0\n",
    "    for x in range(1, int4+1):   # here we are fining number of divisors of the given integer.\n",
    "        if int4%x == 0:\n",
    "            a = a+1\n",
    "    \n",
    "    if a == 2:\n",
    "        # a positive integer, which has exactly two divisors 1 and itself, is a prime number.\n",
    "        print(\"It's a prime number\")\n",
    "    elif a>2 or a<2:\n",
    "        # 1 has only one divisor and that is itself.\n",
    "        print(\"It's not a prime number\")\n",
    "else:\n",
    "    print(\"It's not a positive integer\")"
   ]
  }
 ],
 "metadata": {
  "kernelspec": {
   "display_name": "Python 3",
   "language": "python",
   "name": "python3"
  },
  "language_info": {
   "codemirror_mode": {
    "name": "ipython",
    "version": 3
   },
   "file_extension": ".py",
   "mimetype": "text/x-python",
   "name": "python",
   "nbconvert_exporter": "python",
   "pygments_lexer": "ipython3",
   "version": "3.11.5"
  }
 },
 "nbformat": 4,
 "nbformat_minor": 2
}
