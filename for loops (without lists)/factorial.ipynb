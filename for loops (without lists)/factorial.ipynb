{
 "cells": [
  {
   "cell_type": "markdown",
   "metadata": {},
   "source": [
    "Concept 2 : for loops (without lists)"
   ]
  },
  {
   "cell_type": "markdown",
   "metadata": {},
   "source": [
    "3. Given a positive integer. Find out its factotrial."
   ]
  },
  {
   "cell_type": "code",
   "execution_count": 4,
   "metadata": {},
   "outputs": [
    {
     "name": "stdout",
     "output_type": "stream",
     "text": [
      "factorial of this integer is not defined\n"
     ]
    }
   ],
   "source": [
    "# take an integer by input from user.\n",
    "int3 = int(input(\"Enter an integer\"))\n",
    "\n",
    "if int3<0:\n",
    "    # factorial is not defined for negative integers.\n",
    "    print(\"factorial of this integer is not defined\")\n",
    "elif int3 == 0:\n",
    "    print(\"factorial of this integer is:\", 1)\n",
    "else:       # for positive integers.\n",
    "    fact_num = 1\n",
    "    for x in range(2, int3+1):\n",
    "        fact_num = fact_num*x\n",
    "    print(\"factorial of this number is:\", fact_num)\n"
   ]
  }
 ],
 "metadata": {
  "kernelspec": {
   "display_name": "Python 3",
   "language": "python",
   "name": "python3"
  },
  "language_info": {
   "codemirror_mode": {
    "name": "ipython",
    "version": 3
   },
   "file_extension": ".py",
   "mimetype": "text/x-python",
   "name": "python",
   "nbconvert_exporter": "python",
   "pygments_lexer": "ipython3",
   "version": "3.11.5"
  }
 },
 "nbformat": 4,
 "nbformat_minor": 2
}
