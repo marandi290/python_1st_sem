{
 "cells": [
  {
   "cell_type": "markdown",
   "metadata": {},
   "source": [
    "concept 2 : for loops (without lists)"
   ]
  },
  {
   "cell_type": "markdown",
   "metadata": {},
   "source": [
    "5. Given a positive integer, find out the sum of all odd numbers from 1 up to this number."
   ]
  },
  {
   "cell_type": "code",
   "execution_count": null,
   "metadata": {},
   "outputs": [],
   "source": [
    "# take the number by input from user.\n",
    "int5 = int(input(\"Enter a number\"))\n",
    "\n",
    "if int5>0:\n",
    "    odd_sum = 0\n",
    "    for x in range(1, int5+1):\n",
    "        if x%2 != 0:\n",
    "            # odd numbers are not divisible by 2.\n",
    "            odd_sum = odd_sum + x\n",
    "    print(odd_sum)\n",
    "\n",
    "else:\n",
    "    print(\"The given number is not a positive number\")"
   ]
  }
 ],
 "metadata": {
  "kernelspec": {
   "display_name": "Python 3",
   "language": "python",
   "name": "python3"
  },
  "language_info": {
   "name": "python",
   "version": "3.11.5"
  }
 },
 "nbformat": 4,
 "nbformat_minor": 2
}
