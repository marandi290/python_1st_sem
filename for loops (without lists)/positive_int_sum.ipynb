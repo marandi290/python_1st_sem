{
 "cells": [
  {
   "cell_type": "markdown",
   "metadata": {},
   "source": [
    "Concept 2 : for loops (without list)"
   ]
  },
  {
   "cell_type": "markdown",
   "metadata": {},
   "source": [
    "2. Given a positive integer, find out the sum of all integers from 1 upto this number"
   ]
  },
  {
   "cell_type": "code",
   "execution_count": 6,
   "metadata": {},
   "outputs": [
    {
     "name": "stdout",
     "output_type": "stream",
     "text": [
      "The given number is not a positive integer\n"
     ]
    }
   ],
   "source": [
    "# take an integer by input from user.\n",
    "int2 = int(input(\"enter an integer\"))\n",
    "\n",
    "if int2>0:\n",
    "    num_sum = 0\n",
    "    for x in range(1, int2+1):\n",
    "        num_sum = num_sum + x\n",
    "    print(\"The sum from 1 upto given integer is:\", num_sum)\n",
    "\n",
    "else:     #for less than zero.\n",
    "    print(\"The given number is not a positive integer\")"
   ]
  }
 ],
 "metadata": {
  "kernelspec": {
   "display_name": "Python 3",
   "language": "python",
   "name": "python3"
  },
  "language_info": {
   "codemirror_mode": {
    "name": "ipython",
    "version": 3
   },
   "file_extension": ".py",
   "mimetype": "text/x-python",
   "name": "python",
   "nbconvert_exporter": "python",
   "pygments_lexer": "ipython3",
   "version": "3.11.5"
  }
 },
 "nbformat": 4,
 "nbformat_minor": 2
}
