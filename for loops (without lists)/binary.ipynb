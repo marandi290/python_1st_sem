{
 "cells": [
  {
   "cell_type": "markdown",
   "metadata": {},
   "source": [
    "Concept 2 : for loops (without lists)"
   ]
  },
  {
   "cell_type": "markdown",
   "metadata": {},
   "source": [
    "10. Given a positive integer, convert it into binary and vice-versa."
   ]
  },
  {
   "cell_type": "code",
   "execution_count": 18,
   "metadata": {},
   "outputs": [
    {
     "name": "stdout",
     "output_type": "stream",
     "text": [
      "binary of the given number is: 1110\n"
     ]
    }
   ],
   "source": [
    "# take an integer by input from user.\n",
    "int11 = int(input(\"Enter an integer\"))\n",
    "if int11>0:\n",
    "    # to change the given number in its binary form, we will devide it by 2.\n",
    "    # our binary number will be all reminders in reverse order.\n",
    "    reminder = \"\"\n",
    "    q = int11\n",
    "    while (q//2)>0:\n",
    "        reminder = reminder + str(q%2)\n",
    "        q = q//2\n",
    "    \n",
    "    # last quotient is 1. It will also be considered as a digit of binary number of the given number.\n",
    "    reminder = reminder + str(q)\n",
    "    \n",
    "    # Now, we will reverse the order of reminders.\n",
    "    a = -1\n",
    "    binary_num = \"\"\n",
    "    for x in range(len(reminder)):\n",
    "        binary_num = binary_num + reminder[a]\n",
    "        a = a-1\n",
    "    \n",
    "    print(\"binary of the given number is:\", binary_num)\n",
    "\n",
    "else:\n",
    "    print(\"The given number is not a positive integer.\")"
   ]
  },
  {
   "cell_type": "code",
   "execution_count": 19,
   "metadata": {},
   "outputs": [
    {
     "name": "stdout",
     "output_type": "stream",
     "text": [
      "The given number is: 14\n"
     ]
    }
   ],
   "source": [
    "# example of conversion of binary number into decimal number:\n",
    "# 1101101 = (1 x 2^0)+(0 x 2^1)+(1 x 2^2)+(1 x 2^3)+(0 x 2^4)+(1 x 2^5)+(1 x 2^6)\n",
    "given_num = 0\n",
    "a = -1\n",
    "power = 0\n",
    "for x in range(len(binary_num)):\n",
    "    given_num = given_num + int(binary_num[a])*(2**power)\n",
    "    a = a-1\n",
    "    power = power+1\n",
    "print(\"The given number is:\", given_num)"
   ]
  }
 ],
 "metadata": {
  "kernelspec": {
   "display_name": "Python 3",
   "language": "python",
   "name": "python3"
  },
  "language_info": {
   "codemirror_mode": {
    "name": "ipython",
    "version": 3
   },
   "file_extension": ".py",
   "mimetype": "text/x-python",
   "name": "python",
   "nbconvert_exporter": "python",
   "pygments_lexer": "ipython3",
   "version": "3.11.5"
  }
 },
 "nbformat": 4,
 "nbformat_minor": 2
}
