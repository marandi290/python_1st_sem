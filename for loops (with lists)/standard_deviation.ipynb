{
 "cells": [
  {
   "cell_type": "markdown",
   "metadata": {},
   "source": [
    "Concept 3 : for loops (with lists)"
   ]
  },
  {
   "cell_type": "markdown",
   "metadata": {},
   "source": [
    "4. Given a list of numbers, find out the mean and standard deviation."
   ]
  },
  {
   "cell_type": "code",
   "execution_count": 2,
   "metadata": {},
   "outputs": [
    {
     "name": "stdout",
     "output_type": "stream",
     "text": [
      "242.80493070570046\n"
     ]
    }
   ],
   "source": [
    "# make a list of numbers manually.\n",
    "list_num = [45, 788, 56, 78, 90, 23, 45, 56]\n",
    "\n",
    "# let's find mean of the list.\n",
    "len_list = 0    # to find total number of elements in the list.\n",
    "list_sum = 0\n",
    "for x in list_num:\n",
    "    len_list = len_list + 1\n",
    "    list_sum = list_sum + x\n",
    "    \n",
    "mean = list_sum/len_list\n",
    "\n",
    "# now, we will find the standard deviation.\n",
    "# formula for standard deviation is: [{sum of(mean-x)^2}/(total number of elements in list)]^0.5\n",
    "# x stand for elements of list.\n",
    "\n",
    "\n",
    "square_sum = 0\n",
    "for x in list_num:\n",
    "    square_sum = square_sum + (mean - x)**2\n",
    "    \n",
    "standard_deviation = (square_sum/len_list)**0.5\n",
    "\n",
    "print(standard_deviation)"
   ]
  }
 ],
 "metadata": {
  "kernelspec": {
   "display_name": "Python 3",
   "language": "python",
   "name": "python3"
  },
  "language_info": {
   "codemirror_mode": {
    "name": "ipython",
    "version": 3
   },
   "file_extension": ".py",
   "mimetype": "text/x-python",
   "name": "python",
   "nbconvert_exporter": "python",
   "pygments_lexer": "ipython3",
   "version": "3.11.5"
  }
 },
 "nbformat": 4,
 "nbformat_minor": 2
}
