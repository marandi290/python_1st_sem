{
 "cells": [
  {
   "cell_type": "markdown",
   "metadata": {},
   "source": [
    "Concept 3 : for loops (with lists)"
   ]
  },
  {
   "cell_type": "markdown",
   "metadata": {},
   "source": [
    "5. Given a list of numbers, find all the even numbers in it."
   ]
  },
  {
   "cell_type": "code",
   "execution_count": 3,
   "metadata": {},
   "outputs": [
    {
     "name": "stdout",
     "output_type": "stream",
     "text": [
      "[78, 90, -34, 56]\n"
     ]
    }
   ],
   "source": [
    "# make a list of numbers manually.\n",
    "list_num = [45, 67, 78, 89, 90, 12.6, 23, -34, 45, 56]\n",
    "\n",
    "even_int = []\n",
    "for x in list_num:\n",
    "    # the concept of even odd is only defined for integers.\n",
    "    # An integer, which is divisible by 2, is an even number.\n",
    "    if isinstance(x, int) and x%2 == 0:\n",
    "        even_int.append(x)\n",
    "print(even_int)\n",
    "        "
   ]
  }
 ],
 "metadata": {
  "kernelspec": {
   "display_name": "Python 3",
   "language": "python",
   "name": "python3"
  },
  "language_info": {
   "codemirror_mode": {
    "name": "ipython",
    "version": 3
   },
   "file_extension": ".py",
   "mimetype": "text/x-python",
   "name": "python",
   "nbconvert_exporter": "python",
   "pygments_lexer": "ipython3",
   "version": "3.11.5"
  }
 },
 "nbformat": 4,
 "nbformat_minor": 2
}
