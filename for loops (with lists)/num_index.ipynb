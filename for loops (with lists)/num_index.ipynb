{
 "cells": [
  {
   "cell_type": "markdown",
   "metadata": {},
   "source": [
    "Concept 3 : for loops (with lists)"
   ]
  },
  {
   "cell_type": "markdown",
   "metadata": {},
   "source": [
    "10. Given a list of numbers, find out the index of another given number."
   ]
  },
  {
   "cell_type": "code",
   "execution_count": 1,
   "metadata": {},
   "outputs": [
    {
     "name": "stdout",
     "output_type": "stream",
     "text": [
      "index of 7.89 is: 6\n"
     ]
    }
   ],
   "source": [
    "# make a list of numbers manually.\n",
    "list_num = [1.34, 12, 34, 56, 67, 89, 7.89, 54, 98, -76, 65]\n",
    "\n",
    "# another given number.\n",
    "num_10 = 7.89\n",
    "# we have to find the index of num_10.\n",
    "num_index = -1\n",
    "for x in list_num:\n",
    "    # first element of the list has index 0.\n",
    "    num_index = num_index + 1\n",
    "    if x == num_10:\n",
    "        print(\"index of\", num_10, \"is:\", num_index)\n",
    "        "
   ]
  }
 ],
 "metadata": {
  "kernelspec": {
   "display_name": "Python 3",
   "language": "python",
   "name": "python3"
  },
  "language_info": {
   "codemirror_mode": {
    "name": "ipython",
    "version": 3
   },
   "file_extension": ".py",
   "mimetype": "text/x-python",
   "name": "python",
   "nbconvert_exporter": "python",
   "pygments_lexer": "ipython3",
   "version": "3.11.5"
  }
 },
 "nbformat": 4,
 "nbformat_minor": 2
}
