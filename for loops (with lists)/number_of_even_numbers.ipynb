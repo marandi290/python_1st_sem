{
 "cells": [
  {
   "cell_type": "markdown",
   "metadata": {},
   "source": [
    "Concept 3 : for loops (with lists)"
   ]
  },
  {
   "cell_type": "markdown",
   "metadata": {},
   "source": [
    "7. Given a list of numbers, find how many even numbers it has."
   ]
  },
  {
   "cell_type": "code",
   "execution_count": 1,
   "metadata": {},
   "outputs": [
    {
     "name": "stdout",
     "output_type": "stream",
     "text": [
      "6\n"
     ]
    }
   ],
   "source": [
    "# make a list of numbers manually.\n",
    "list_num = [1.23, 23, 12, 34, 45, 56, 67, 78, 89, 90, -88]\n",
    "\n",
    "num_even = 0\n",
    "for x in list_num:\n",
    "    # The concept of even odd is only defined for integers.\n",
    "    # even numbers are completely divisible by 2.\n",
    "    if isinstance(x, int) and x%2 == 0:\n",
    "        num_even = num_even + 1\n",
    "    \n",
    "print(num_even)"
   ]
  }
 ],
 "metadata": {
  "kernelspec": {
   "display_name": "Python 3",
   "language": "python",
   "name": "python3"
  },
  "language_info": {
   "codemirror_mode": {
    "name": "ipython",
    "version": 3
   },
   "file_extension": ".py",
   "mimetype": "text/x-python",
   "name": "python",
   "nbconvert_exporter": "python",
   "pygments_lexer": "ipython3",
   "version": "3.11.5"
  }
 },
 "nbformat": 4,
 "nbformat_minor": 2
}
