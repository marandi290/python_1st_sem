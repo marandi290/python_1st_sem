{
 "cells": [
  {
   "cell_type": "markdown",
   "metadata": {},
   "source": [
    "Concept 3 : for loops (with lists)"
   ]
  },
  {
   "cell_type": "markdown",
   "metadata": {},
   "source": [
    "9. Given a list of numbers, find out the maximum number."
   ]
  },
  {
   "cell_type": "code",
   "execution_count": 1,
   "metadata": {},
   "outputs": [
    {
     "name": "stdout",
     "output_type": "stream",
     "text": [
      "maximum number is: 90\n"
     ]
    }
   ],
   "source": [
    "# make a list of numbers manually.\n",
    "list_num = [12, 23, 34, 45, 56, 67, 78, 89, 90, 13, 15, 48]\n",
    "\n",
    "max_num = list_num[0]\n",
    "for x in list_num:\n",
    "    if x > max_num:\n",
    "        max_num = x\n",
    "        \n",
    "print(\"maximum number is:\", max_num)"
   ]
  },
  {
   "cell_type": "code",
   "execution_count": null,
   "metadata": {},
   "outputs": [],
   "source": []
  }
 ],
 "metadata": {
  "kernelspec": {
   "display_name": "Python 3",
   "language": "python",
   "name": "python3"
  },
  "language_info": {
   "codemirror_mode": {
    "name": "ipython",
    "version": 3
   },
   "file_extension": ".py",
   "mimetype": "text/x-python",
   "name": "python",
   "nbconvert_exporter": "python",
   "pygments_lexer": "ipython3",
   "version": "3.11.5"
  }
 },
 "nbformat": 4,
 "nbformat_minor": 2
}
